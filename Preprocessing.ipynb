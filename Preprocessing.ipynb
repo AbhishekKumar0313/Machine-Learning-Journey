{
 "cells": [
  {
   "cell_type": "markdown",
   "id": "3177f68f",
   "metadata": {},
   "source": [
    "## import libraries"
   ]
  },
  {
   "cell_type": "code",
   "execution_count": 290,
   "id": "d1ce2f0b",
   "metadata": {},
   "outputs": [],
   "source": [
    "import numpy as np\n",
    "import pandas as pd\n",
    "import matplotlib.pyplot as plt"
   ]
  },
  {
   "cell_type": "markdown",
   "id": "c1f48798",
   "metadata": {},
   "source": [
    "## import dataset using pandas lib. and named it as dataset"
   ]
  },
  {
   "cell_type": "code",
   "execution_count": 262,
   "id": "2b82d328",
   "metadata": {},
   "outputs": [],
   "source": [
    "dataset=pd.read_csv('DataSet.csv')"
   ]
  },
  {
   "cell_type": "code",
   "execution_count": 291,
   "id": "aa8acd01",
   "metadata": {},
   "outputs": [
    {
     "data": {
      "text/html": [
       "<div>\n",
       "<style scoped>\n",
       "    .dataframe tbody tr th:only-of-type {\n",
       "        vertical-align: middle;\n",
       "    }\n",
       "\n",
       "    .dataframe tbody tr th {\n",
       "        vertical-align: top;\n",
       "    }\n",
       "\n",
       "    .dataframe thead th {\n",
       "        text-align: right;\n",
       "    }\n",
       "</style>\n",
       "<table border=\"1\" class=\"dataframe\">\n",
       "  <thead>\n",
       "    <tr style=\"text-align: right;\">\n",
       "      <th></th>\n",
       "      <th>Developer</th>\n",
       "      <th>Age</th>\n",
       "      <th>Salary</th>\n",
       "      <th>Married</th>\n",
       "    </tr>\n",
       "  </thead>\n",
       "  <tbody>\n",
       "    <tr>\n",
       "      <th>0</th>\n",
       "      <td>Karachi</td>\n",
       "      <td>42.0</td>\n",
       "      <td>78000.0</td>\n",
       "      <td>No</td>\n",
       "    </tr>\n",
       "    <tr>\n",
       "      <th>1</th>\n",
       "      <td>Lahore</td>\n",
       "      <td>32.0</td>\n",
       "      <td>48000.0</td>\n",
       "      <td>Yes</td>\n",
       "    </tr>\n",
       "    <tr>\n",
       "      <th>2</th>\n",
       "      <td>Karachi</td>\n",
       "      <td>36.0</td>\n",
       "      <td>60000.0</td>\n",
       "      <td>No</td>\n",
       "    </tr>\n",
       "    <tr>\n",
       "      <th>3</th>\n",
       "      <td>Multan</td>\n",
       "      <td>41.0</td>\n",
       "      <td>68000.0</td>\n",
       "      <td>No</td>\n",
       "    </tr>\n",
       "    <tr>\n",
       "      <th>4</th>\n",
       "      <td>Lahore</td>\n",
       "      <td>42.0</td>\n",
       "      <td>NaN</td>\n",
       "      <td>Yes</td>\n",
       "    </tr>\n",
       "    <tr>\n",
       "      <th>5</th>\n",
       "      <td>Multan</td>\n",
       "      <td>43.0</td>\n",
       "      <td>59000.0</td>\n",
       "      <td>Yes</td>\n",
       "    </tr>\n",
       "    <tr>\n",
       "      <th>6</th>\n",
       "      <td>Karachi</td>\n",
       "      <td>NaN</td>\n",
       "      <td>59000.0</td>\n",
       "      <td>No</td>\n",
       "    </tr>\n",
       "    <tr>\n",
       "      <th>7</th>\n",
       "      <td>Lahore</td>\n",
       "      <td>44.0</td>\n",
       "      <td>79000.0</td>\n",
       "      <td>Yes</td>\n",
       "    </tr>\n",
       "    <tr>\n",
       "      <th>8</th>\n",
       "      <td>Multan</td>\n",
       "      <td>52.0</td>\n",
       "      <td>99000.0</td>\n",
       "      <td>No</td>\n",
       "    </tr>\n",
       "    <tr>\n",
       "      <th>9</th>\n",
       "      <td>Lahore</td>\n",
       "      <td>32.0</td>\n",
       "      <td>69000.0</td>\n",
       "      <td>Yes</td>\n",
       "    </tr>\n",
       "  </tbody>\n",
       "</table>\n",
       "</div>"
      ],
      "text/plain": [
       "  Developer   Age   Salary Married\n",
       "0   Karachi  42.0  78000.0      No\n",
       "1    Lahore  32.0  48000.0     Yes\n",
       "2   Karachi  36.0  60000.0      No\n",
       "3    Multan  41.0  68000.0      No\n",
       "4    Lahore  42.0      NaN     Yes\n",
       "5    Multan  43.0  59000.0     Yes\n",
       "6   Karachi   NaN  59000.0      No\n",
       "7    Lahore  44.0  79000.0     Yes\n",
       "8    Multan  52.0  99000.0      No\n",
       "9    Lahore  32.0  69000.0     Yes"
      ]
     },
     "execution_count": 291,
     "metadata": {},
     "output_type": "execute_result"
    }
   ],
   "source": [
    "dataset"
   ]
  },
  {
   "cell_type": "markdown",
   "id": "7fb4fcde",
   "metadata": {},
   "source": [
    "## extracting all col except last and set it as X variable"
   ]
  },
  {
   "cell_type": "code",
   "execution_count": 264,
   "id": "e8e05abc",
   "metadata": {},
   "outputs": [],
   "source": [
    "X=dataset.iloc[:,:-1].values"
   ]
  },
  {
   "cell_type": "code",
   "execution_count": 265,
   "id": "497f2055",
   "metadata": {},
   "outputs": [
    {
     "data": {
      "text/plain": [
       "array([['Karachi', 42.0, 78000.0],\n",
       "       ['Lahore', 32.0, 48000.0],\n",
       "       ['Karachi', 36.0, 60000.0],\n",
       "       ['Multan', 41.0, 68000.0],\n",
       "       ['Lahore', 42.0, nan],\n",
       "       ['Multan', 43.0, 59000.0],\n",
       "       ['Karachi', nan, 59000.0],\n",
       "       ['Lahore', 44.0, 79000.0],\n",
       "       ['Multan', 52.0, 99000.0],\n",
       "       ['Lahore', 32.0, 69000.0]], dtype=object)"
      ]
     },
     "execution_count": 265,
     "metadata": {},
     "output_type": "execute_result"
    }
   ],
   "source": [
    "X"
   ]
  },
  {
   "cell_type": "markdown",
   "id": "ddbf5369",
   "metadata": {},
   "source": [
    "## set last col. by Y"
   ]
  },
  {
   "cell_type": "code",
   "execution_count": 292,
   "id": "043bca21",
   "metadata": {},
   "outputs": [],
   "source": [
    "Y=dataset.iloc[:,3].values"
   ]
  },
  {
   "cell_type": "code",
   "execution_count": 293,
   "id": "694c8ff0",
   "metadata": {},
   "outputs": [
    {
     "data": {
      "text/plain": [
       "array(['No', 'Yes', 'No', 'No', 'Yes', 'Yes', 'No', 'Yes', 'No', 'Yes'],\n",
       "      dtype=object)"
      ]
     },
     "execution_count": 293,
     "metadata": {},
     "output_type": "execute_result"
    }
   ],
   "source": [
    "Y"
   ]
  },
  {
   "cell_type": "markdown",
   "id": "a04e32ed",
   "metadata": {},
   "source": [
    "## Using SimpleImputer class for putting values where nan either mean , meadia or most frequent"
   ]
  },
  {
   "cell_type": "code",
   "execution_count": 268,
   "id": "5c6daafa",
   "metadata": {},
   "outputs": [],
   "source": [
    "from sklearn.impute import SimpleImputer\n",
    "imputer = SimpleImputer(missing_values=np.nan,strategy='mean')\n",
    "imputer=imputer.fit(X[:,1:3])\n",
    "X[:,1:3]=imputer.transform(X[:,1:3])"
   ]
  },
  {
   "cell_type": "code",
   "execution_count": 269,
   "id": "cb2efb6e",
   "metadata": {},
   "outputs": [
    {
     "data": {
      "text/plain": [
       "array([['Karachi', 42.0, 78000.0],\n",
       "       ['Lahore', 32.0, 48000.0],\n",
       "       ['Karachi', 36.0, 60000.0],\n",
       "       ['Multan', 41.0, 68000.0],\n",
       "       ['Lahore', 42.0, 68777.77777777778],\n",
       "       ['Multan', 43.0, 59000.0],\n",
       "       ['Karachi', 40.44444444444444, 59000.0],\n",
       "       ['Lahore', 44.0, 79000.0],\n",
       "       ['Multan', 52.0, 99000.0],\n",
       "       ['Lahore', 32.0, 69000.0]], dtype=object)"
      ]
     },
     "execution_count": 269,
     "metadata": {},
     "output_type": "execute_result"
    }
   ],
   "source": [
    "X"
   ]
  },
  {
   "cell_type": "code",
   "execution_count": 270,
   "id": "918f8d5d",
   "metadata": {},
   "outputs": [],
   "source": [
    "XX=dataset.iloc[:,:-1].values"
   ]
  },
  {
   "cell_type": "code",
   "execution_count": 271,
   "id": "8ddf0c52",
   "metadata": {},
   "outputs": [
    {
     "data": {
      "text/plain": [
       "array([['Karachi', 42.0, 78000.0],\n",
       "       ['Lahore', 32.0, 48000.0],\n",
       "       ['Karachi', 36.0, 60000.0],\n",
       "       ['Multan', 41.0, 68000.0],\n",
       "       ['Lahore', 42.0, nan],\n",
       "       ['Multan', 43.0, 59000.0],\n",
       "       ['Karachi', nan, 59000.0],\n",
       "       ['Lahore', 44.0, 79000.0],\n",
       "       ['Multan', 52.0, 99000.0],\n",
       "       ['Lahore', 32.0, 69000.0]], dtype=object)"
      ]
     },
     "execution_count": 271,
     "metadata": {},
     "output_type": "execute_result"
    }
   ],
   "source": [
    "XX"
   ]
  },
  {
   "cell_type": "code",
   "execution_count": 272,
   "id": "b5d49de8",
   "metadata": {},
   "outputs": [],
   "source": [
    "from sklearn.impute import SimpleImputer\n",
    "imputer = SimpleImputer(missing_values=np.nan,strategy='median')\n",
    "imputer=imputer.fit(XX[:,1:3])\n",
    "XX[:,1:3]=imputer.transform(XX[:,1:3])"
   ]
  },
  {
   "cell_type": "code",
   "execution_count": 273,
   "id": "2f90f347",
   "metadata": {},
   "outputs": [
    {
     "data": {
      "text/plain": [
       "array([['Karachi', 42.0, 78000.0],\n",
       "       ['Lahore', 32.0, 48000.0],\n",
       "       ['Karachi', 36.0, 60000.0],\n",
       "       ['Multan', 41.0, 68000.0],\n",
       "       ['Lahore', 42.0, 68000.0],\n",
       "       ['Multan', 43.0, 59000.0],\n",
       "       ['Karachi', 42.0, 59000.0],\n",
       "       ['Lahore', 44.0, 79000.0],\n",
       "       ['Multan', 52.0, 99000.0],\n",
       "       ['Lahore', 32.0, 69000.0]], dtype=object)"
      ]
     },
     "execution_count": 273,
     "metadata": {},
     "output_type": "execute_result"
    }
   ],
   "source": [
    "XX"
   ]
  },
  {
   "cell_type": "code",
   "execution_count": 274,
   "id": "c73a4761",
   "metadata": {},
   "outputs": [],
   "source": [
    "XXX=dataset.iloc[:,:-1].values"
   ]
  },
  {
   "cell_type": "code",
   "execution_count": 275,
   "id": "51185661",
   "metadata": {},
   "outputs": [],
   "source": [
    "from sklearn.impute import SimpleImputer\n",
    "imputer = SimpleImputer(missing_values=np.nan,strategy='most_frequent')\n",
    "imputer=imputer.fit(XXX[:,1:3])\n",
    "XXX[:,1:3]=imputer.transform(XXX[:,1:3])"
   ]
  },
  {
   "cell_type": "code",
   "execution_count": 276,
   "id": "633b7cbc",
   "metadata": {},
   "outputs": [
    {
     "data": {
      "text/plain": [
       "array([['Karachi', 42.0, 78000.0],\n",
       "       ['Lahore', 32.0, 48000.0],\n",
       "       ['Karachi', 36.0, 60000.0],\n",
       "       ['Multan', 41.0, 68000.0],\n",
       "       ['Lahore', 42.0, 59000.0],\n",
       "       ['Multan', 43.0, 59000.0],\n",
       "       ['Karachi', 32.0, 59000.0],\n",
       "       ['Lahore', 44.0, 79000.0],\n",
       "       ['Multan', 52.0, 99000.0],\n",
       "       ['Lahore', 32.0, 69000.0]], dtype=object)"
      ]
     },
     "execution_count": 276,
     "metadata": {},
     "output_type": "execute_result"
    }
   ],
   "source": [
    "XXX"
   ]
  },
  {
   "cell_type": "markdown",
   "id": "846f3d3b",
   "metadata": {},
   "source": [
    "## labelling developer address string into integer "
   ]
  },
  {
   "cell_type": "code",
   "execution_count": 277,
   "id": "470611d6",
   "metadata": {},
   "outputs": [],
   "source": [
    "from sklearn.preprocessing import LabelEncoder"
   ]
  },
  {
   "cell_type": "code",
   "execution_count": 278,
   "id": "784bc156",
   "metadata": {},
   "outputs": [],
   "source": [
    "labelencoder_X=LabelEncoder()\n",
    "X[:,0]=labelencoder_X.fit_transform(X[:,0])"
   ]
  },
  {
   "cell_type": "code",
   "execution_count": 279,
   "id": "34c4b0fa",
   "metadata": {},
   "outputs": [
    {
     "data": {
      "text/plain": [
       "array([[0, 42.0, 78000.0],\n",
       "       [1, 32.0, 48000.0],\n",
       "       [0, 36.0, 60000.0],\n",
       "       [2, 41.0, 68000.0],\n",
       "       [1, 42.0, 68777.77777777778],\n",
       "       [2, 43.0, 59000.0],\n",
       "       [0, 40.44444444444444, 59000.0],\n",
       "       [1, 44.0, 79000.0],\n",
       "       [2, 52.0, 99000.0],\n",
       "       [1, 32.0, 69000.0]], dtype=object)"
      ]
     },
     "execution_count": 279,
     "metadata": {},
     "output_type": "execute_result"
    }
   ],
   "source": [
    "X"
   ]
  },
  {
   "cell_type": "markdown",
   "id": "8d9cb52e",
   "metadata": {},
   "source": [
    "## breaking the labels into three col where each location will be inserted with 1 and other with 0"
   ]
  },
  {
   "cell_type": "code",
   "execution_count": 280,
   "id": "0887ec96",
   "metadata": {},
   "outputs": [],
   "source": [
    "from sklearn.preprocessing import OneHotEncoder"
   ]
  },
  {
   "cell_type": "code",
   "execution_count": 281,
   "id": "287b10d1",
   "metadata": {},
   "outputs": [],
   "source": [
    "onehotencoder=OneHotEncoder(categories='auto',sparse=True)\n"
   ]
  },
  {
   "cell_type": "code",
   "execution_count": 282,
   "id": "2d3dbc24",
   "metadata": {},
   "outputs": [],
   "source": [
    "X=onehotencoder.fit_transform(X).toarray()"
   ]
  },
  {
   "cell_type": "code",
   "execution_count": 283,
   "id": "c148baaf",
   "metadata": {},
   "outputs": [
    {
     "data": {
      "text/plain": [
       "array([[1., 0., 0., 0., 0., 0., 0., 1., 0., 0., 0., 0., 0., 0., 0., 0.,\n",
       "        0., 1., 0., 0.],\n",
       "       [0., 1., 0., 1., 0., 0., 0., 0., 0., 0., 0., 1., 0., 0., 0., 0.,\n",
       "        0., 0., 0., 0.],\n",
       "       [1., 0., 0., 0., 1., 0., 0., 0., 0., 0., 0., 0., 0., 1., 0., 0.,\n",
       "        0., 0., 0., 0.],\n",
       "       [0., 0., 1., 0., 0., 0., 1., 0., 0., 0., 0., 0., 0., 0., 1., 0.,\n",
       "        0., 0., 0., 0.],\n",
       "       [0., 1., 0., 0., 0., 0., 0., 1., 0., 0., 0., 0., 0., 0., 0., 1.,\n",
       "        0., 0., 0., 0.],\n",
       "       [0., 0., 1., 0., 0., 0., 0., 0., 1., 0., 0., 0., 1., 0., 0., 0.,\n",
       "        0., 0., 0., 0.],\n",
       "       [1., 0., 0., 0., 0., 1., 0., 0., 0., 0., 0., 0., 1., 0., 0., 0.,\n",
       "        0., 0., 0., 0.],\n",
       "       [0., 1., 0., 0., 0., 0., 0., 0., 0., 1., 0., 0., 0., 0., 0., 0.,\n",
       "        0., 0., 1., 0.],\n",
       "       [0., 0., 1., 0., 0., 0., 0., 0., 0., 0., 1., 0., 0., 0., 0., 0.,\n",
       "        0., 0., 0., 1.],\n",
       "       [0., 1., 0., 1., 0., 0., 0., 0., 0., 0., 0., 0., 0., 0., 0., 0.,\n",
       "        1., 0., 0., 0.]])"
      ]
     },
     "execution_count": 283,
     "metadata": {},
     "output_type": "execute_result"
    }
   ],
   "source": [
    "X"
   ]
  },
  {
   "cell_type": "markdown",
   "id": "c9ae4f5c",
   "metadata": {},
   "source": [
    "## splitting the dataset using train_test_split method"
   ]
  },
  {
   "cell_type": "code",
   "execution_count": 284,
   "id": "9da8aadf",
   "metadata": {},
   "outputs": [],
   "source": [
    "from sklearn.model_selection import train_test_split"
   ]
  },
  {
   "cell_type": "code",
   "execution_count": 285,
   "id": "339e9712",
   "metadata": {},
   "outputs": [],
   "source": [
    "X_train,X_test,Y_train,Y_test=train_test_split(X,Y,test_size=0.2,random_state=0)"
   ]
  },
  {
   "cell_type": "markdown",
   "id": "4f957d8d",
   "metadata": {},
   "source": [
    "## standarizing the dataset in between 0 and 1"
   ]
  },
  {
   "cell_type": "code",
   "execution_count": 286,
   "id": "9d434795",
   "metadata": {},
   "outputs": [],
   "source": [
    "from sklearn.preprocessing import StandardScaler \n",
    "sc_X=StandardScaler()"
   ]
  },
  {
   "cell_type": "code",
   "execution_count": 287,
   "id": "f3c83f2b",
   "metadata": {},
   "outputs": [],
   "source": [
    "X_test=sc_X.fit_transform(X_test)\n",
    "X_train=sc_X.fit_transform(X_train)"
   ]
  },
  {
   "cell_type": "code",
   "execution_count": 288,
   "id": "7b855297",
   "metadata": {},
   "outputs": [
    {
     "data": {
      "text/plain": [
       "array([[ 1.,  0., -1.,  0.,  1.,  0.,  0.,  0.,  0.,  0., -1.,  0.,  0.,\n",
       "         1.,  0.,  0.,  0.,  0.,  0., -1.],\n",
       "       [-1.,  0.,  1.,  0., -1.,  0.,  0.,  0.,  0.,  0.,  1.,  0.,  0.,\n",
       "        -1.,  0.,  0.,  0.,  0.,  0.,  1.]])"
      ]
     },
     "execution_count": 288,
     "metadata": {},
     "output_type": "execute_result"
    }
   ],
   "source": [
    "X_test"
   ]
  },
  {
   "cell_type": "code",
   "execution_count": 289,
   "id": "2e00b26d",
   "metadata": {},
   "outputs": [
    {
     "data": {
      "text/plain": [
       "array([[-0.57735027,  1.        , -0.57735027, -0.57735027,  0.        ,\n",
       "        -0.37796447, -0.37796447,  1.73205081, -0.37796447, -0.37796447,\n",
       "         0.        , -0.37796447, -0.57735027,  0.        , -0.37796447,\n",
       "         2.64575131, -0.37796447, -0.37796447, -0.37796447,  0.        ],\n",
       "       [-0.57735027,  1.        , -0.57735027,  1.73205081,  0.        ,\n",
       "        -0.37796447, -0.37796447, -0.57735027, -0.37796447, -0.37796447,\n",
       "         0.        , -0.37796447, -0.57735027,  0.        , -0.37796447,\n",
       "        -0.37796447,  2.64575131, -0.37796447, -0.37796447,  0.        ],\n",
       "       [-0.57735027,  1.        , -0.57735027,  1.73205081,  0.        ,\n",
       "        -0.37796447, -0.37796447, -0.57735027, -0.37796447, -0.37796447,\n",
       "         0.        ,  2.64575131, -0.57735027,  0.        , -0.37796447,\n",
       "        -0.37796447, -0.37796447, -0.37796447, -0.37796447,  0.        ],\n",
       "       [ 1.73205081, -1.        , -0.57735027, -0.57735027,  0.        ,\n",
       "         2.64575131, -0.37796447, -0.57735027, -0.37796447, -0.37796447,\n",
       "         0.        , -0.37796447,  1.73205081,  0.        , -0.37796447,\n",
       "        -0.37796447, -0.37796447, -0.37796447, -0.37796447,  0.        ],\n",
       "       [-0.57735027,  1.        , -0.57735027, -0.57735027,  0.        ,\n",
       "        -0.37796447, -0.37796447, -0.57735027, -0.37796447,  2.64575131,\n",
       "         0.        , -0.37796447, -0.57735027,  0.        , -0.37796447,\n",
       "        -0.37796447, -0.37796447, -0.37796447,  2.64575131,  0.        ],\n",
       "       [-0.57735027, -1.        ,  1.73205081, -0.57735027,  0.        ,\n",
       "        -0.37796447,  2.64575131, -0.57735027, -0.37796447, -0.37796447,\n",
       "         0.        , -0.37796447, -0.57735027,  0.        ,  2.64575131,\n",
       "        -0.37796447, -0.37796447, -0.37796447, -0.37796447,  0.        ],\n",
       "       [ 1.73205081, -1.        , -0.57735027, -0.57735027,  0.        ,\n",
       "        -0.37796447, -0.37796447,  1.73205081, -0.37796447, -0.37796447,\n",
       "         0.        , -0.37796447, -0.57735027,  0.        , -0.37796447,\n",
       "        -0.37796447, -0.37796447,  2.64575131, -0.37796447,  0.        ],\n",
       "       [-0.57735027, -1.        ,  1.73205081, -0.57735027,  0.        ,\n",
       "        -0.37796447, -0.37796447, -0.57735027,  2.64575131, -0.37796447,\n",
       "         0.        , -0.37796447,  1.73205081,  0.        , -0.37796447,\n",
       "        -0.37796447, -0.37796447, -0.37796447, -0.37796447,  0.        ]])"
      ]
     },
     "execution_count": 289,
     "metadata": {},
     "output_type": "execute_result"
    }
   ],
   "source": [
    "X_train"
   ]
  },
  {
   "cell_type": "markdown",
   "id": "d2263595",
   "metadata": {},
   "source": [
    "## The End"
   ]
  }
 ],
 "metadata": {
  "kernelspec": {
   "display_name": "Python 3 (ipykernel)",
   "language": "python",
   "name": "python3"
  },
  "language_info": {
   "codemirror_mode": {
    "name": "ipython",
    "version": 3
   },
   "file_extension": ".py",
   "mimetype": "text/x-python",
   "name": "python",
   "nbconvert_exporter": "python",
   "pygments_lexer": "ipython3",
   "version": "3.9.12"
  }
 },
 "nbformat": 4,
 "nbformat_minor": 5
}
